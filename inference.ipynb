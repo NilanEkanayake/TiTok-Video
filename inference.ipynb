{
 "cells": [
  {
   "cell_type": "code",
   "execution_count": 1,
   "id": "140926f1-774d-4fa2-9bff-6f2af2b4e66b",
   "metadata": {
    "tags": []
   },
   "outputs": [],
   "source": [
    "import torch\n",
    "\n",
    "from model.titok import TiTok\n",
    "from base_tokenizers import load_vae\n",
    "\n",
    "from decord import VideoReader, cpu, bridge\n",
    "from einops import rearrange\n",
    "from torchvision.io import write_video\n",
    "from omegaconf import OmegaConf"
   ]
  },
  {
   "cell_type": "code",
   "execution_count": 2,
   "id": "e97141d6-ecb3-4c32-bd44-2abb34906824",
   "metadata": {
    "tags": []
   },
   "outputs": [],
   "source": [
    "torch.backends.cuda.matmul.allow_tf32 = True\n",
    "torch.manual_seed(0)\n",
    "\n",
    "device = \"cuda\"\n",
    "torch_dtype = torch.float32\n",
    "\n",
    "config =  OmegaConf.load(\"configs/tiny.yaml\")\n",
    "checkpoint_path = \"out_tiny/epoch=187-step=59000.ckpt\""
   ]
  },
  {
   "cell_type": "code",
   "execution_count": null,
   "id": "d3c35007-978b-4ce4-9140-dac536a6971d",
   "metadata": {
    "scrolled": true,
    "tags": []
   },
   "outputs": [],
   "source": [
    "\n",
    "tokenizer = TiTok(config)\n",
    "\n",
    "if config.training.torch_compile:\n",
    "    tokenizer = torch.compile(tokenizer.to(device))\n",
    "\n",
    "orig_sd = torch.load(checkpoint_path, map_location=\"cpu\", weights_only=False)['state_dict']\n",
    "model_sd = {}\n",
    "for k, v in orig_sd.items():\n",
    "    if not 'disc' in k:\n",
    "        model_sd[k[6:]] = v # won't work for torch-compiled models?\n",
    "    \n",
    "tokenizer.load_state_dict(model_sd)\n",
    "tokenizer.eval().to(device, torch_dtype)\n",
    "vae = load_vae(vae_name=config.model.vae.type, model_path=config.model.vae.path, embed_dim=config.model.vae.latent_channels)\n",
    "vae.eval().to(device, torch_dtype)"
   ]
  },
  {
   "cell_type": "code",
   "execution_count": null,
   "id": "94cc58e5-e78c-4c3c-a8a9-d82ff5c2ea4e",
   "metadata": {
    "tags": []
   },
   "outputs": [],
   "source": [
    "# Tokenize a video\n",
    "def tokenize_and_reconstruct(video_path, write_path):\n",
    "    with torch.no_grad(), torch.autocast(device_type=\"cuda\", dtype=torch_dtype):\n",
    "        bridge.set_bridge('torch')\n",
    "        video_reader = VideoReader(video_path, ctx=cpu(0))\n",
    "        fps = video_reader.get_avg_fps()\n",
    "        video = video_reader.get_batch(list(range(len(video_reader)))).to(device, torch_dtype)\n",
    "        video = rearrange(video, 't h w c -> 1 c t h w') / 255\n",
    "        video = (video * 2) - 1\n",
    "        enc_vid = vae.encode(video)\n",
    "        z_quant, result_dict = tokenizer.encode(enc_vid)\n",
    "        \n",
    "        # if not in VAE mode\n",
    "        tokens_list = result_dict['codes'].squeeze(0).cpu().tolist()\n",
    "        print(f\"VIDEO TOKENS ({len(tokens_list)}):\\n{tokens_list}\")\n",
    "        z_quant = tokenizer.quantize.indices_to_codes(result_dict['codes'])\n",
    "        \n",
    "        recon_video = tokenizer.decode(z_quant.to(torch_dtype))\n",
    "        \n",
    "        dec_video = vae.decode(recon_video)\n",
    "        dec_video = ((dec_video + 1) / 2) * 255\n",
    "        dec_video = rearrange(dec_video.squeeze(0), 'c t h w -> t h w c').to(\"cpu\", dtype=torch.uint8)\n",
    "        write_video(write_path, dec_video, fps=fps, options={'crf': '0'})"
   ]
  },
  {
   "cell_type": "code",
   "execution_count": null,
   "id": "0bd970d8-82f0-42bc-b44d-fb1566302730",
   "metadata": {},
   "outputs": [],
   "source": [
    "tokenize_and_reconstruct(f\"assets/big_buck_bunny.mp4\", f\"assets/bbb_recon.mp4\")"
   ]
  },
  {
   "cell_type": "code",
   "execution_count": null,
   "id": "d7f95b5c-8fd0-4592-b393-777e535958f5",
   "metadata": {},
   "outputs": [],
   "source": []
  }
 ],
 "metadata": {
  "kernelspec": {
   "display_name": "Python 3 (ipykernel)",
   "language": "python",
   "name": "python3"
  },
  "language_info": {
   "codemirror_mode": {
    "name": "ipython",
    "version": 3
   },
   "file_extension": ".py",
   "mimetype": "text/x-python",
   "name": "python",
   "nbconvert_exporter": "python",
   "pygments_lexer": "ipython3",
   "version": "3.10.14"
  },
  "vscode": {
   "interpreter": {
    "hash": "31f2aee4e71d21fbe5cf8b01ff0e069b9275f58929596ceb00d14d90e3e16cd6"
   }
  }
 },
 "nbformat": 4,
 "nbformat_minor": 5
}

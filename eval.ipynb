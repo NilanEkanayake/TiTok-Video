{
 "cells": [
  {
   "cell_type": "code",
   "execution_count": 2,
   "id": "38b4fdd0-df97-4374-bc83-f243115ce7f5",
   "metadata": {},
   "outputs": [],
   "source": [
    "import torch\n",
    "import glob\n",
    "import ffmpeg\n",
    "from omegaconf import OmegaConf\n",
    "from einops import rearrange\n",
    "from huggingface_hub import snapshot_download\n",
    "import zipfile\n",
    "import glob\n",
    "import re\n",
    "import os\n",
    "import shutil\n",
    "from tqdm import tqdm\n",
    "\n",
    "from model.titok import TiTok\n",
    "\n",
    "from torchmetrics.image import PeakSignalNoiseRatio, LearnedPerceptualImagePatchSimilarity, StructuralSimilarityIndexMeasure\n",
    "from torchmetrics import MetricCollection\n",
    "\n",
    "from model.metrics.fvd import FVDCalculator"
   ]
  },
  {
   "cell_type": "code",
   "execution_count": 3,
   "id": "ecb66e54-86ac-40bd-a8f0-1397ae3ed2bc",
   "metadata": {
    "scrolled": true
   },
   "outputs": [
    {
     "data": {
      "application/vnd.jupyter.widget-view+json": {
       "model_id": "6af4247b108b43e78e09e570add4d275",
       "version_major": 2,
       "version_minor": 0
      },
      "text/plain": [
       "Fetching 3 files:   0%|          | 0/3 [00:00<?, ?it/s]"
      ]
     },
     "metadata": {},
     "output_type": "display_data"
    },
    {
     "data": {
      "application/vnd.jupyter.widget-view+json": {
       "model_id": "0b92628a7f304ecd9dae7ca8a2429302",
       "version_major": 2,
       "version_minor": 0
      },
      "text/plain": [
       "MCL_JCV-20250507T045226Z-002.zip:   0%|          | 0.00/2.15G [00:00<?, ?B/s]"
      ]
     },
     "metadata": {},
     "output_type": "display_data"
    },
    {
     "data": {
      "application/vnd.jupyter.widget-view+json": {
       "model_id": "d284276f427c453e9969c5ddc24e2297",
       "version_major": 2,
       "version_minor": 0
      },
      "text/plain": [
       "MCL_JCV-20250507T045226Z-001.zip:   0%|          | 0.00/1.16G [00:00<?, ?B/s]"
      ]
     },
     "metadata": {},
     "output_type": "display_data"
    },
    {
     "data": {
      "application/vnd.jupyter.widget-view+json": {
       "model_id": "b56e5afc7eb445bcbbcd9d1ffd799df5",
       "version_major": 2,
       "version_minor": 0
      },
      "text/plain": [
       "MCL_JCV-20250507T045226Z-003.zip:   0%|          | 0.00/995M [00:00<?, ?B/s]"
      ]
     },
     "metadata": {},
     "output_type": "display_data"
    }
   ],
   "source": [
    "# download MCL_JCV 720p source dataset\n",
    "val_ds_path = 'mcl_jcv_dataset'\n",
    "\n",
    "if not os.path.exists(val_ds_path):\n",
    "    temp_zips = os.path.join(val_ds_path, 'temp')\n",
    "    # only need first three zips for 720p\n",
    "    snapshot_download(repo_id=\"uscmcl/MCL-JCV_Dataset\", repo_type='dataset', local_dir=temp_zips, allow_patterns=[f\"*00{x}.zip\" for x in range(1, 4)])\n",
    "    for zip_path in glob.glob(os.path.join(temp_zips, '*.zip')):\n",
    "        with zipfile.ZipFile(zip_path) as zf:\n",
    "            to_extract = [x for x in zf.namelist() if re.search(r\".*videoSRC.._1280x720_..\\.yuv\", x)]\n",
    "            for file in to_extract:\n",
    "                zf.extract(file, path=val_ds_path)\n",
    "                shutil.move(os.path.join(val_ds_path, file), os.path.join(val_ds_path, os.path.basename(file)))\n",
    "    shutil.rmtree(temp_zips)\n",
    "    shutil.rmtree(os.path.join(val_ds_path, 'MCL_JCV'))"
   ]
  },
  {
   "cell_type": "code",
   "execution_count": 3,
   "id": "19d439b5-78eb-4583-a5b1-0dbadd0d7dd2",
   "metadata": {},
   "outputs": [],
   "source": [
    "torch.backends.cuda.matmul.allow_tf32 = True\n",
    "torch.manual_seed(0)\n",
    "\n",
    "device = \"cuda\"\n",
    "torch_dtype = torch.bfloat16\n",
    "\n",
    "config =  OmegaConf.load(\"configs/tiny_natten_gan.yaml\")\n",
    "checkpoint_path = \"out_tiny_w512_exp_2/epoch=0-step=57000.ckpt\""
   ]
  },
  {
   "cell_type": "code",
   "execution_count": 4,
   "id": "c4915e75-d170-4440-a93e-36f2b8d1dab7",
   "metadata": {},
   "outputs": [],
   "source": [
    "tokenizer = TiTok(config)\n",
    "\n",
    "if config.training.torch_compile:\n",
    "    tokenizer = torch.compile(tokenizer.to(device))\n",
    "\n",
    "orig_sd = torch.load(checkpoint_path, map_location=\"cpu\", weights_only=False)['state_dict']\n",
    "global_step = torch.load(checkpoint_path, map_location=\"cpu\", weights_only=False)['global_step']\n",
    "\n",
    "model_sd = {}\n",
    "for k, v in orig_sd.items():\n",
    "    if 'loss_module' not in k:\n",
    "        model_sd[k[6:]] = v\n",
    "    \n",
    "tokenizer.load_state_dict(model_sd)\n",
    "tokenizer.eval().to(device, torch_dtype)\n",
    "\n",
    "eval_metrics = MetricCollection(\n",
    "    {\n",
    "        \"psnr\": PeakSignalNoiseRatio(),\n",
    "        \"ssim\": StructuralSimilarityIndexMeasure(),\n",
    "        \"lpips\": LearnedPerceptualImagePatchSimilarity(net_type='vgg').eval(),\n",
    "    }\n",
    ").to(device, torch_dtype)\n",
    "\n",
    "fvd_metric = FVDCalculator()"
   ]
  },
  {
   "cell_type": "code",
   "execution_count": 5,
   "id": "8ce06fda-c776-441b-b6b1-a3f14b505da6",
   "metadata": {},
   "outputs": [
    {
     "name": "stderr",
     "output_type": "stream",
     "text": [
      "  0%|                                                                                            | 0/30 [00:00<?, ?it/s]/tmp/ipykernel_793357/2825749564.py:22: UserWarning: The given buffer is not writable, and PyTorch does not support non-writable tensors. This means you can write to the underlying (supposedly non-writable) buffer using the tensor. You may want to copy the buffer to protect its data or make it writable before converting it to a tensor. This type of warning will be suppressed for the rest of this program. (Triggered internally at /pytorch/torch/csrc/utils/tensor_new.cpp:1561.)\n",
      "  video = torch.frombuffer(out, dtype=torch.uint8).reshape([-1, trg_res, trg_res, 3])\n",
      "100%|███████████████████████████████████████████████████████████████████████████████████| 30/30 [00:49<00:00,  1.66s/it]\n"
     ]
    }
   ],
   "source": [
    "trg_res = config.dataset.resolution\n",
    "trg_fps = config.dataset.frames_per_second\n",
    "trg_frames = config.dataset.num_frames\n",
    "\n",
    "src_files = glob.glob(os.path.join(val_ds_path, '*.yuv'))\n",
    "num_eval = 0\n",
    "\n",
    "for src_file in tqdm(src_files):\n",
    "    src_fps = src_file.split('_')[-1].replace('.yuv', '')\n",
    "    width, height = [int(i) for i in src_file.split('_')[-2].split('x')]\n",
    "    \n",
    "    x_offset = (width - height) // 2\n",
    "    out, _ = (\n",
    "        ffmpeg.input(src_file, format='rawvideo', pix_fmt='yuv420p', s='{}x{}'.format(width, height), framerate=src_fps)\n",
    "        .crop(x=x_offset, y=0, width='ih', height='ih') # crop to square\n",
    "        .filter('scale', width=trg_res, height=trg_res) # resize\n",
    "        .filter('fps', trg_fps)\n",
    "        .output('pipe:', format='rawvideo', pix_fmt='rgb24', v='error')\n",
    "        .run(capture_stdout=True)\n",
    "    )\n",
    "\n",
    "    video = torch.frombuffer(out, dtype=torch.uint8).reshape([-1, trg_res, trg_res, 3])\n",
    "\n",
    "    if video.shape[0] >= trg_frames:\n",
    "        num_chunks = video.shape[0] // trg_frames\n",
    "        chunked_video = video[:num_chunks*trg_frames].reshape(-1, trg_frames, trg_res, trg_res, 3)\n",
    "        chunked_video = (chunked_video.permute(0, 4, 1, 2, 3).to(device, torch_dtype) / 255) # BTHWC -> BCTHW, 0-255\n",
    "        chunked_video = (chunked_video * 2) - 1.0 # -1, 1\n",
    "\n",
    "        for chunk in chunked_video: # not batching? Only ~30 vids, not worth it?\n",
    "            with torch.no_grad():\n",
    "                orig = chunk.unsqueeze(0)\n",
    "                recon = tokenizer(orig)[0].clamp(-1, 1)\n",
    "\n",
    "                fvd_metric.update(real=orig, generated=recon)\n",
    "                eval_metrics.update(rearrange(recon, \"1 c t h w -> t c h w\"), rearrange(orig, \"1 c t h w -> t c h w\")) # averages automatically\n",
    "    \n",
    "                num_eval += 1"
   ]
  },
  {
   "cell_type": "code",
   "execution_count": 6,
   "id": "ee979cb3-a196-4ac2-9183-bb2b5c8add72",
   "metadata": {},
   "outputs": [
    {
     "name": "stdout",
     "output_type": "stream",
     "text": [
      "Num eval: 150\n",
      "Eval scores: LPIPS 0.52 | PSNR 17.51 | SSIM 0.41 | FVD 793.79\n"
     ]
    }
   ],
   "source": [
    "eval_scores = eval_metrics.compute()\n",
    "eval_scores['FVD'] = fvd_metric.gather()\n",
    "\n",
    "eval_metrics.reset()\n",
    "fvd_metric.reset()\n",
    "\n",
    "print(f\"Num eval: {num_eval}\")\n",
    "print(\"Eval scores: \" + ' | '.join([f\"{k.upper()} {v:.2f}\" for k, v in eval_scores.items()]))"
   ]
  },
  {
   "cell_type": "code",
   "execution_count": null,
   "id": "c15cfe53-7ad6-4a21-b16f-3179326966b6",
   "metadata": {},
   "outputs": [],
   "source": []
  }
 ],
 "metadata": {
  "kernelspec": {
   "display_name": "Python 3 (ipykernel)",
   "language": "python",
   "name": "python3"
  },
  "language_info": {
   "codemirror_mode": {
    "name": "ipython",
    "version": 3
   },
   "file_extension": ".py",
   "mimetype": "text/x-python",
   "name": "python",
   "nbconvert_exporter": "python",
   "pygments_lexer": "ipython3",
   "version": "3.12.9"
  }
 },
 "nbformat": 4,
 "nbformat_minor": 5
}
